{
  "nbformat": 4,
  "nbformat_minor": 0,
  "metadata": {
    "colab": {
      "name": "RL - FrozenLake.ipynb",
      "provenance": [],
      "collapsed_sections": [],
      "authorship_tag": "ABX9TyM7zAREIu0TVzHaZ0s9XZgQ",
      "include_colab_link": true
    },
    "kernelspec": {
      "name": "python3",
      "display_name": "Python 3"
    }
  },
  "cells": [
    {
      "cell_type": "markdown",
      "metadata": {
        "id": "view-in-github",
        "colab_type": "text"
      },
      "source": [
        "<a href=\"https://colab.research.google.com/github/Lucas-GStark/ML-Neural-Networks/blob/main/Reinforcement%20Learning_FrozenLake.ipynb\" target=\"_parent\"><img src=\"https://colab.research.google.com/assets/colab-badge.svg\" alt=\"Open In Colab\"/></a>"
      ]
    },
    {
      "cell_type": "code",
      "metadata": {
        "id": "udpTVm9MpQA3"
      },
      "source": [
        "import tensorflow as tf\r\n",
        "from tensorflow import keras\r\n",
        "import gym\r\n",
        "import pandas as pd\r\n",
        "import numpy as np\r\n",
        "import matplotlib.pyplot as plt\r\n",
        "%matplotlib inline"
      ],
      "execution_count": null,
      "outputs": []
    },
    {
      "cell_type": "code",
      "metadata": {
        "id": "w4elKAyLpnA9"
      },
      "source": [
        "env = gym.make(\"FrozenLake-v0\") # Initialize the FrozenLake environment"
      ],
      "execution_count": null,
      "outputs": []
    },
    {
      "cell_type": "code",
      "metadata": {
        "id": "KVr8Yx7eWL1E"
      },
      "source": [
        "states = env.observation_space.n\r\n",
        "actions = env.action_space.n\r\n",
        "\r\n",
        "Q = np.zeros((states, actions)) # Create a matrix with all 0 values, where Q is the Q-Matrix\r\n",
        "\r\n",
        "render = True\r\n",
        "\r\n",
        "epochs = 1000 # Number of times that the environment will be executed\r\n",
        "max_steps = 100 # Maximum number of steps allowed in each execution\r\n",
        "\r\n",
        "alpha = 0.81 # The Learning-Rate that \r\n",
        "gamma = 0.96 # The Discount-Factor\r\n",
        "\r\n",
        "epsilon = 0.9 # Every time an action is takes, there is 90% that it is random and 10% hte action is based on the Q-Matrix values"
      ],
      "execution_count": null,
      "outputs": []
    },
    {
      "cell_type": "code",
      "metadata": {
        "id": "07KCHIRLYq8M"
      },
      "source": [
        "rewards = []\r\n",
        "for episode in range(epochs):\r\n",
        "\r\n",
        "  state = env.reset()\r\n",
        "  for _ in range(max_steps):\r\n",
        "    \r\n",
        "    if render:\r\n",
        "      env.render()\r\n",
        "\r\n",
        "    # Picking an action\r\n",
        "    if np.random.uniform(0,1) < epsilon: # np.random.uniform(0,1) picks a random value between 0, 1 \r\n",
        "      action = env.action_space.sample() # Takes a random action\r\n",
        "    else:\r\n",
        "      action = np.argmax(Q[state,:]) # Use the Q-Matrix to pick the highest value (best action)\r\n",
        "\r\n",
        "    new_state, reward, done, info = env.step(action) # Take the random action, and return informations\r\n",
        "\r\n",
        "    # Updating the Q-Matrix\r\n",
        "    Q[state, action] = Q[state, action] + alpha*(reward+gamma*np.max(Q[new_state, :])-Q[state, action])\r\n",
        "\r\n",
        "    state = new_state\r\n",
        "\r\n",
        "    if done:\r\n",
        "      rewards.append(reward)\r\n",
        "      epsilon -= 0.001\r\n",
        "      break # Goal reached"
      ],
      "execution_count": null,
      "outputs": []
    },
    {
      "cell_type": "code",
      "metadata": {
        "colab": {
          "base_uri": "https://localhost:8080/"
        },
        "id": "6XuAKzzQZtBF",
        "outputId": "fce5c166-49b1-4bc2-a039-927c07066b32"
      },
      "source": [
        "print(Q)\r\n",
        "print(f\"Average Reward: {sum(rewards)/len(rewards)}\")"
      ],
      "execution_count": null,
      "outputs": [
        {
          "output_type": "stream",
          "text": [
            "[[3.54828014e-01 8.96018973e-02 8.65797740e-02 8.93375347e-02]\n",
            " [2.90079413e-02 3.03840811e-02 2.94046467e-02 3.17202128e-01]\n",
            " [2.12456798e-02 2.39806283e-02 3.05643813e-02 1.77423135e-01]\n",
            " [1.21411659e-02 2.46129855e-03 1.30854910e-02 1.63812599e-01]\n",
            " [3.68927735e-01 2.82358376e-02 4.78883673e-02 9.76194635e-03]\n",
            " [0.00000000e+00 0.00000000e+00 0.00000000e+00 0.00000000e+00]\n",
            " [2.15990311e-02 1.09895933e-03 6.57744670e-04 4.79123543e-05]\n",
            " [0.00000000e+00 0.00000000e+00 0.00000000e+00 0.00000000e+00]\n",
            " [1.73125976e-02 7.12808963e-02 1.76988719e-02 4.26154146e-01]\n",
            " [1.33015644e-02 5.51389087e-01 1.44875526e-02 2.68096148e-02]\n",
            " [1.88628592e-01 2.79077771e-02 6.12669269e-03 8.78644530e-03]\n",
            " [0.00000000e+00 0.00000000e+00 0.00000000e+00 0.00000000e+00]\n",
            " [0.00000000e+00 0.00000000e+00 0.00000000e+00 0.00000000e+00]\n",
            " [5.67712860e-02 1.61317482e-01 8.18644681e-01 6.33933671e-03]\n",
            " [1.50711605e-01 9.59702738e-01 3.15038556e-01 1.91305923e-01]\n",
            " [0.00000000e+00 0.00000000e+00 0.00000000e+00 0.00000000e+00]]\n",
            "Average Reward: 0.144\n"
          ],
          "name": "stdout"
        }
      ]
    },
    {
      "cell_type": "code",
      "metadata": {
        "colab": {
          "base_uri": "https://localhost:8080/",
          "height": 279
        },
        "id": "DGSxknS4W0CY",
        "outputId": "0890ea89-3a74-45d1-b059-9808030de569"
      },
      "source": [
        "def get_average(values):\r\n",
        "  return sum(values)/len(values)\r\n",
        "\r\n",
        "avg_rewards = []\r\n",
        "for i in range(0, len(rewards), 100):\r\n",
        "  avg_rewards.append(get_average(rewards[i:i+100])) \r\n",
        "\r\n",
        "plt.plot(avg_rewards)\r\n",
        "plt.ylabel('Average Reward')\r\n",
        "plt.xlabel('Episodes (100\\'s)')\r\n",
        "plt.show()"
      ],
      "execution_count": null,
      "outputs": [
        {
          "output_type": "display_data",
          "data": {
            "image/png": "[encoded data removed]",
            "text/plain": [
              "<Figure size 432x288 with 1 Axes>"
            ]
          },
          "metadata": {
            "tags": [],
            "needs_background": "light"
          }
        }
      ]
    }
  ]
}